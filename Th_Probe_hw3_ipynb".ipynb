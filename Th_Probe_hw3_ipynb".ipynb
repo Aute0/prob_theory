{
  "cells": [
    {
      "cell_type": "markdown",
      "metadata": {
        "id": "view-in-github",
        "colab_type": "text"
      },
      "source": [
        "<a href=\"https://colab.research.google.com/github/Aute0/prob_theory/blob/main/Th_Probe_hw3_ipynb%22.ipynb\" target=\"_parent\"><img src=\"https://colab.research.google.com/assets/colab-badge.svg\" alt=\"Open In Colab\"/></a>"
      ]
    },
    {
      "cell_type": "code",
      "execution_count": null,
      "metadata": {
        "id": "mSsWcD_r3T-w"
      },
      "outputs": [],
      "source": [
        "import pandas as pd\n",
        "import numpy as np\n",
        "from math import factorial as fl\n",
        "\n",
        "# сочетания\n",
        "def combinations(k, n):\n",
        "    return fl(n) / (fl(k) * fl(n - k))"
      ]
    },
    {
      "cell_type": "markdown",
      "metadata": {
        "id": "KEx_43mC3T-y"
      },
      "source": [
        "### Задача №1\n",
        "\n",
        "Даны значения зарплат из выборки выпускников: 100, 80, 75, 77, 89, 33, 45, 25, 65, 17, 30, 24, 57, 55, 70, 75, 65, 84, 90, 150. Посчитать (желательно без использования статистических методов наподобие std, var, mean) среднее арифметическое, среднее квадратичное отклонение, смещенную и несмещенную оценки дисперсий для данной выборки."
      ]
    },
    {
      "cell_type": "code",
      "execution_count": null,
      "metadata": {
        "id": "rdfEa9hb3T-1"
      },
      "outputs": [],
      "source": [
        "salaries = pd.Series([100, 80, 75, 77, 89, 33, 45, 25, 65, 17, 30, 24, 57, 55, 70, 75, 65, 84, 90, 150])\n"
      ]
    },
    {
      "cell_type": "code",
      "execution_count": null,
      "metadata": {
        "id": "lOi_0URD3T-3",
        "outputId": "8b5e6ff7-3a75-48d9-f1c1-07b399710fb6",
        "colab": {
          "base_uri": "https://localhost:8080/"
        }
      },
      "outputs": [
        {
          "output_type": "execute_result",
          "data": {
            "text/plain": [
              "65.3"
            ]
          },
          "metadata": {},
          "execution_count": 3
        }
      ],
      "source": [
        "median_ar = salaries.sum() / salaries.count()\n",
        "median_ar"
      ]
    },
    {
      "cell_type": "code",
      "execution_count": null,
      "metadata": {
        "id": "oJ0RtzFM3T-4",
        "outputId": "500e9178-ee78-47f2-e5fb-c5e7e45a9a52",
        "colab": {
          "base_uri": "https://localhost:8080/"
        }
      },
      "outputs": [
        {
          "output_type": "execute_result",
          "data": {
            "text/plain": [
              "30.823854398825596"
            ]
          },
          "metadata": {},
          "execution_count": 4
        }
      ],
      "source": [
        "median_round = np.sqrt(((salaries - median_ar) ** 2).sum() / salaries.count())\n",
        "median_round"
      ]
    },
    {
      "cell_type": "markdown",
      "source": [
        " Смещенная оценка дисперсии\n",
        " \n",
        " -![image007.jpg](data:image/jpeg;base64,/9j/4AAQSkZJRgABAQEAYABgAAD/2wBDAAoHBwgHBgoICAgLCgoLDhgQDg0NDh0VFhEYIx8lJCIfIiEmKzcvJik0KSEiMEExNDk7Pj4+JS5ESUM8SDc9Pjv/wAALCAA2AGABAREA/8QAHwAAAQUBAQEBAQEAAAAAAAAAAAECAwQFBgcICQoL/8QAtRAAAgEDAwIEAwUFBAQAAAF9AQIDAAQRBRIhMUEGE1FhByJxFDKBkaEII0KxwRVS0fAkM2JyggkKFhcYGRolJicoKSo0NTY3ODk6Q0RFRkdISUpTVFVWV1hZWmNkZWZnaGlqc3R1dnd4eXqDhIWGh4iJipKTlJWWl5iZmqKjpKWmp6ipqrKztLW2t7i5usLDxMXGx8jJytLT1NXW19jZ2uHi4+Tl5ufo6erx8vP09fb3+Pn6/9oACAEBAAA/APZqKKKyNK1w6neyQC1MaorMHLg5AcqDj0OCfwrXooooooooorO11tVj0e4k0VYXvkXdEkwJV8fw8EdawfD+pajq+l22rafLZNmRY7q2Nr5ckeDh0zu4K5PWuhfUkOrrpkK75RH5sxzxGhOBn3JBwPY1L/aFluK/a4dwkERG8ffPRfr7VZpD0rI/tyUS7GsVX96IiTdRcMe2M9falbVnnguUjZLe4s5AtyJOdi4yGX1yMYq7ps1zPptvNeRCG4eMGRB/CatUUVXv7+10yylvLyZYYIly7scAVy+laj4e0yfUNYbULKK51J1Z7aG5VuRwo2g8uc847/Sr1vDNp/i/U7ho966lbxPbknALxggpnseQfz9KWzsLi01u+1O5s4UgnhjfAcHymQHIx3P3ea0IEbVNHgaWa4iMqLJujby3GeQOKdb2B09ZZIp7u6cr8qTzlgT7Z6Vnabpl1D4hvL6WxiSG7jiZfnB8plBBGPU/LzUFrpkereJdXvpkZrJ0hgTDFfMePcSwIPQFsfga6OCGO3hSGJdqIMKMk8fU1JVCLVUk1IWLQSxsyuyMy4DBSAT9PmGD3q/WfrP2U2kcV3BFOksyIElj3qST6fnWNcr4ftLWS8sNEtGmt2Rhm0Ee3LAZBK9s9q6gqDjIBwcjNNkjSaJopFDI4Ksp6EHtSoixRrGihVUAKB0Ap1FIqqihVAUDoAOlLXNeIbqd9RgitZbgrC6pcW8YZGcSYCuj9CU6kdME5rVttPuIdUmvJbxZVkXaqeSAVHYbs9Ov51n38etveym3+3eTn5Nk8Crj2ypP51dvrK8u/srRtAPIIfE6sx34xn5SAepqlJoV3JBJD5elxpLgP5Vu6E4ORyG9RV0R66B/x8WH/fl//iqNuvDpNp7f9snH/s1GNe/v6d/3w/8AjRjXv7+nf98P/jRjXv7+nf8AfD/40Y17+/p3/fD/AONPW8nsvLGqSQA3Eyww+Qj4LEE4Oc46dav4paKKKKK5mDxJqE+pi3FpD5Tag1qjbjl1Vcuw/wB0gjPTtXTUUU140cqXUHady57H1p1FFFFFFUE0TT45LZ0t9ptS5i+Y/KXOWPXnJ9av0UUV/9k=)   "
      ],
      "metadata": {
        "id": "6iOFl2sNje--"
      }
    },
    {
      "cell_type": "code",
      "execution_count": null,
      "metadata": {
        "id": "Mk30JGDX3T-6",
        "outputId": "3cde6916-ef0d-44ce-8a47-61c08e1efdba",
        "colab": {
          "base_uri": "https://localhost:8080/"
        }
      },
      "outputs": [
        {
          "output_type": "execute_result",
          "data": {
            "text/plain": [
              "950.11"
            ]
          },
          "metadata": {},
          "execution_count": 5
        }
      ],
      "source": [
        "variance = ((salaries - median_ar) ** 2).sum() / salaries.count()\n",
        "variance"
      ]
    },
    {
      "cell_type": "markdown",
      "source": [
        "Несмещенная оценка дисперсии\n",
        "\n",
        "![index.png](data:image/png;base64,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)"
      ],
      "metadata": {
        "id": "V2aQPke4GO-x"
      }
    },
    {
      "cell_type": "code",
      "execution_count": null,
      "metadata": {
        "id": "vetFDbUR3T-7",
        "outputId": "315123c4-ef7e-4ca1-85a8-cb3e0d151972",
        "colab": {
          "base_uri": "https://localhost:8080/"
        }
      },
      "outputs": [
        {
          "output_type": "execute_result",
          "data": {
            "text/plain": [
              "1000.1157894736842"
            ]
          },
          "metadata": {},
          "execution_count": 6
        }
      ],
      "source": [
        "variance2 = ((salaries - median_ar) ** 2).sum() / (salaries.count() - 1)\n",
        "variance2"
      ]
    },
    {
      "cell_type": "markdown",
      "metadata": {
        "id": "UFXjfy1C3T-7"
      },
      "source": [
        "### Задача №2\n",
        "\n",
        "В первом ящике находится 8 мячей, из которых 5 - белые. Во втором ящике - 12 мячей, из которых 5 белых. Из первого ящика вытаскивают случайным образом два мяча, из второго - 4. Какова вероятность того, что 3 мяча белые?"
      ]
    },
    {
      "cell_type": "markdown",
      "metadata": {
        "id": "_gx9My1E3T-8"
      },
      "source": [
        "A11 - из 1 ящика вынули **2 белых** мяча\n",
        "\n",
        "А12 - из 2 ящика вынули **1 белый** мяч\n",
        "\n",
        "А21 - из 1 ящика вынули **1 белый** мяч\n",
        "\n",
        "А22 - из 2 ящика вынули **2 белых** мяча\n",
        "\n",
        "А31 - из 1 ящика вынули **0 белых** мячей\n",
        "\n",
        "А32 - из 2 ящика вынули **три белых** мяча\n",
        "\n",
        "А - из ящиков вынули **три белых мяча**\n",
        "\n",
        "А = А11* А12 + А21* А22 + А31* А32\n"
      ]
    },
    {
      "cell_type": "code",
      "execution_count": null,
      "metadata": {
        "id": "he4jlE1q3T-9"
      },
      "outputs": [],
      "source": [
        "PA11 = (fl(5) / (fl(2) * fl(5 - 2))) * (fl(3) / (fl(0) * fl(3 - 0))) / (fl(8) / (fl(2) * fl(8 - 2)))\n",
        "PA12 = (fl(5) / (fl(1) * fl(5 - 1))) * (fl(7) / (fl(3) * fl(7 - 3))) / (fl(12) / (fl(4) * fl(12 - 4)))\n",
        "PA21 = (fl(5) / (fl(1) * fl(5 - 1))) * (fl(3) / (fl(1) * fl(3 - 1))) / (fl(8) / (fl(2) * fl(8 - 2)))\n",
        "PА22 = (fl(5) / (fl(2) * fl(5 - 2))) * (fl(7) / (fl(2) * fl(7 - 2))) / (fl(12) / (fl(4) * fl(12 - 4)))\n",
        "PA31 = (fl(5) / (fl(0) * fl(5 - 0))) * (fl(3) / (fl(2) * fl(3 - 2))) / (fl(8) / (fl(2) * fl(8 - 2)))\n",
        "PA32 = (fl(5) / (fl(3) * fl(5 - 3))) * (fl(7) / (fl(1) * fl(7 - 1))) / (fl(12) / (fl(4) * fl(12 - 4)))"
      ]
    },
    {
      "cell_type": "code",
      "execution_count": null,
      "metadata": {
        "id": "VH0TzeO23T-_",
        "outputId": "e5fcf6dd-bb92-4a17-aa2e-393b2caa4b17",
        "colab": {
          "base_uri": "https://localhost:8080/"
        }
      },
      "outputs": [
        {
          "output_type": "execute_result",
          "data": {
            "text/plain": [
              "0.3686868686868687"
            ]
          },
          "metadata": {},
          "execution_count": 8
        }
      ],
      "source": [
        "PA = PA11 * PA12 + PA21 * PА22 + PA31 * PA32\n",
        "PA"
      ]
    },
    {
      "cell_type": "markdown",
      "metadata": {
        "id": "quZVfgYZ3T_A"
      },
      "source": [
        "### Задача №3\n",
        "\n",
        "На соревновании по биатлону один из трех спортсменов стреляет и попадает в мишень. Вероятность попадания для первого спортсмена равна 0.9, для второго — 0.8, для третьего — 0.6. Найти вероятность того, что выстрел произведен: a). первым спортсменом б). вторым спортсменом в). третьим спортсменом."
      ]
    },
    {
      "cell_type": "markdown",
      "metadata": {
        "id": "qmCIc_EU3T_B"
      },
      "source": [
        "А - мишень поражена              | А1 - первый стрелок попал в цель\n",
        "\n",
        "А2 - второй стрелок попал в цель | А3 - третий стрелок попал в цель"
      ]
    },
    {
      "cell_type": "code",
      "execution_count": null,
      "metadata": {
        "id": "aholOEcw3T_B",
        "outputId": "cf8017f4-d043-4b46-945d-d494f50df4b1",
        "colab": {
          "base_uri": "https://localhost:8080/"
        }
      },
      "outputs": [
        {
          "output_type": "execute_result",
          "data": {
            "text/plain": [
              "0.7666666666666666"
            ]
          },
          "metadata": {},
          "execution_count": 10
        }
      ],
      "source": [
        "PA = 1 / 3 * 0.9 + 1 / 3 * 0.8 + 1 / 3 * 0.6\n",
        "PA"
      ]
    },
    {
      "cell_type": "code",
      "execution_count": null,
      "metadata": {
        "id": "GwjrpCYK3T_C",
        "outputId": "1926457e-ff91-4772-c15b-2f6567fb1307"
      },
      "outputs": [
        {
          "data": {
            "text/plain": [
              "0.391304347826087"
            ]
          },
          "execution_count": 17,
          "metadata": {},
          "output_type": "execute_result"
        }
      ],
      "source": [
        "PA1 = 1 / 3 * 0.9 / PA\n",
        "PA1"
      ]
    },
    {
      "cell_type": "code",
      "execution_count": null,
      "metadata": {
        "id": "pjQIi3aU3T_C",
        "outputId": "97680007-f6e8-488e-be24-47f42aed7589"
      },
      "outputs": [
        {
          "data": {
            "text/plain": [
              "0.3478260869565218"
            ]
          },
          "execution_count": 18,
          "metadata": {},
          "output_type": "execute_result"
        }
      ],
      "source": [
        "PA2 = 1 / 3 * 0.8 / PA\n",
        "PA2"
      ]
    },
    {
      "cell_type": "code",
      "execution_count": null,
      "metadata": {
        "id": "s1D3TWQc3T_D",
        "outputId": "013ec1f8-3dec-4a61-bce1-2bd1f7f7201d"
      },
      "outputs": [
        {
          "data": {
            "text/plain": [
              "0.2608695652173913"
            ]
          },
          "execution_count": 19,
          "metadata": {},
          "output_type": "execute_result"
        }
      ],
      "source": [
        "PA3 = 1 / 3 * 0.6 / PA\n",
        "PA3"
      ]
    },
    {
      "cell_type": "markdown",
      "metadata": {
        "id": "XhANmLDV3T_E"
      },
      "source": [
        "### Задача №4 \n",
        "\n",
        "В университет на факультеты A и B поступило равное количество студентов, а на факультет C студентов поступило столько же, сколько на A и B вместе. Вероятность того, что студент факультета A сдаст первую сессию, равна 0.8. Для студента факультета B эта вероятность равна 0.7, а для студента факультета C - 0.9. Студент сдал первую сессию. Какова вероятность, что он учится: a). на факультете A б). на факультете B в). на факультете C?"
      ]
    },
    {
      "cell_type": "markdown",
      "metadata": {
        "id": "O6Rg4Qvn3T_E"
      },
      "source": [
        "А - Студент сдал первую сессию \n",
        "\n",
        "А1 - студент с факультета А | А2 - студент с факультета В | А3 - студент с факультета С"
      ]
    },
    {
      "cell_type": "code",
      "execution_count": null,
      "metadata": {
        "id": "H8jBJ_gO3T_F",
        "outputId": "36a4331c-fbd0-452d-9e22-3bf3d7c2eb96"
      },
      "outputs": [
        {
          "data": {
            "text/plain": [
              "0.825"
            ]
          },
          "execution_count": 24,
          "metadata": {},
          "output_type": "execute_result"
        }
      ],
      "source": [
        "PA = 1 / 4 * 0.8 + 1 / 4 * 0.7 + 2 / 4 * 0.9\n",
        "PA"
      ]
    },
    {
      "cell_type": "code",
      "execution_count": null,
      "metadata": {
        "id": "kemX1NTH3T_F",
        "outputId": "467f28e9-410e-42db-b72f-97b207af6ea6"
      },
      "outputs": [
        {
          "data": {
            "text/plain": [
              "0.24242424242424246"
            ]
          },
          "execution_count": 25,
          "metadata": {},
          "output_type": "execute_result"
        }
      ],
      "source": [
        "PA1 = 1 / 4 * 0.8 / PA\n",
        "PA1"
      ]
    },
    {
      "cell_type": "code",
      "execution_count": null,
      "metadata": {
        "id": "CBAMZRWR3T_F",
        "outputId": "d39a2693-ce7a-4279-cec7-bc736f0c66d9"
      },
      "outputs": [
        {
          "data": {
            "text/plain": [
              "0.21212121212121213"
            ]
          },
          "execution_count": 26,
          "metadata": {},
          "output_type": "execute_result"
        }
      ],
      "source": [
        "PA2 = 1 / 4 * 0.7 / PA\n",
        "PA2"
      ]
    },
    {
      "cell_type": "code",
      "execution_count": null,
      "metadata": {
        "id": "HidtKcgN3T_G",
        "outputId": "5739a75d-90d8-4b5f-a2b0-8d13299742a3"
      },
      "outputs": [
        {
          "data": {
            "text/plain": [
              "0.5454545454545455"
            ]
          },
          "execution_count": 27,
          "metadata": {},
          "output_type": "execute_result"
        }
      ],
      "source": [
        "PA3 = 2 / 4 * 0.9 / PA\n",
        "PA3"
      ]
    },
    {
      "cell_type": "markdown",
      "metadata": {
        "id": "Cb9TSybV3T_G"
      },
      "source": [
        "### Задача №5\n",
        "\n",
        "Устройство состоит из трех деталей. Для первой детали вероятность выйти из строя в первый месяц равна 0.1, для второй - 0.2, для третьей - 0.25. Какова вероятность того, что в первый месяц выйдут из строя: а). все детали б). только две детали в). хотя бы одна деталь г). от одной до двух деталей?"
      ]
    },
    {
      "cell_type": "markdown",
      "metadata": {
        "id": "jcfZUVWW3T_G"
      },
      "source": [
        "А - из строя вышли все детали"
      ]
    },
    {
      "cell_type": "code",
      "execution_count": null,
      "metadata": {
        "id": "5kFM089A3T_I",
        "outputId": "68951f0f-3de1-4a15-bdc7-695e050bbbec",
        "colab": {
          "base_uri": "https://localhost:8080/"
        }
      },
      "outputs": [
        {
          "output_type": "execute_result",
          "data": {
            "text/plain": [
              "0.005000000000000001"
            ]
          },
          "metadata": {},
          "execution_count": 9
        }
      ],
      "source": [
        "PA = 0.1 * 0.2 * 0.25\n",
        "PA"
      ]
    },
    {
      "cell_type": "markdown",
      "metadata": {
        "id": "VpM7_NbU3T_I"
      },
      "source": [
        "1.   B1 - из строя вышли первая и вторая деталь, но не вышла третья\n",
        "2.   B2 - из строя вышла первая и третья деталь, но не вышла вторая\n",
        "3.   B3 - из строя вышла вторая и третья деталь, но не вышла первая\n",
        "\n",
        "***В = B1 + B2 + B3*** -  из строя вышло только две детали"
      ]
    },
    {
      "cell_type": "code",
      "execution_count": null,
      "metadata": {
        "id": "3tpjOAGr3T_I",
        "outputId": "6505c088-cf38-4f89-e4df-c643360fbaa0",
        "colab": {
          "base_uri": "https://localhost:8080/"
        }
      },
      "outputs": [
        {
          "output_type": "execute_result",
          "data": {
            "text/plain": [
              "0.08000000000000002"
            ]
          },
          "metadata": {},
          "execution_count": 10
        }
      ],
      "source": [
        "PB = 0.1 * 0.2 * 0.75 + 0.1 * 0.8 * 0.25 + 0.9 * 0.2 * 0.25\n",
        "PB"
      ]
    },
    {
      "cell_type": "markdown",
      "metadata": {
        "id": "1fxy7kAG3T_I"
      },
      "source": [
        "C - из строя вышла хотя бы одна деталь"
      ]
    },
    {
      "cell_type": "code",
      "execution_count": null,
      "metadata": {
        "id": "HKbIablp3T_I",
        "outputId": "60c1c089-f753-48fa-fd4c-558ce4c75092",
        "colab": {
          "base_uri": "https://localhost:8080/"
        }
      },
      "outputs": [
        {
          "output_type": "execute_result",
          "data": {
            "text/plain": [
              "0.45999999999999996"
            ]
          },
          "metadata": {},
          "execution_count": 11
        }
      ],
      "source": [
        "PC = 1 - 0.9 * 0.8 * 0.75\n",
        "PC"
      ]
    },
    {
      "cell_type": "markdown",
      "metadata": {
        "id": "oDO3o1_L3T_J"
      },
      "source": [
        "1.   D1 - из строя вышла первая деталь\n",
        "2.   D2 - из строя вышла вторая деталь\n",
        "3.   D3 - из строя вышла третья деталь\n",
        "4.   D - из строя вышла одна деталь\n",
        "\n",
        "***Е = В + D*** - из строя вышло от одной до двух деталей"
      ]
    },
    {
      "cell_type": "code",
      "execution_count": null,
      "metadata": {
        "id": "trwVvvug3T_J",
        "outputId": "8d4dc1ee-2740-4caa-e0b5-9106a346eda7",
        "colab": {
          "base_uri": "https://localhost:8080/"
        }
      },
      "outputs": [
        {
          "output_type": "execute_result",
          "data": {
            "text/plain": [
              "0.08"
            ]
          },
          "metadata": {},
          "execution_count": 12
        }
      ],
      "source": [
        "PD = 0.9 * 0.2 * 0.25 + 0.1 * 0.8 * 0.25 + 0.1 * 0.2 * 0.75\n",
        "PD"
      ]
    },
    {
      "cell_type": "code",
      "execution_count": null,
      "metadata": {
        "id": "CMbjzHP43T_K",
        "outputId": "b1e11e4a-86a8-4509-9bef-4eb28449d2a6",
        "colab": {
          "base_uri": "https://localhost:8080/"
        }
      },
      "outputs": [
        {
          "output_type": "execute_result",
          "data": {
            "text/plain": [
              "0.16000000000000003"
            ]
          },
          "metadata": {},
          "execution_count": 13
        }
      ],
      "source": [
        "PE = PB + PD\n",
        "PE"
      ]
    }
  ],
  "metadata": {
    "kernelspec": {
      "display_name": "Python 3",
      "language": "python",
      "name": "python3"
    },
    "language_info": {
      "codemirror_mode": {
        "name": "ipython",
        "version": 3
      },
      "file_extension": ".py",
      "mimetype": "text/x-python",
      "name": "python",
      "nbconvert_exporter": "python",
      "pygments_lexer": "ipython3",
      "version": "3.7.1"
    },
    "colab": {
      "provenance": [],
      "include_colab_link": true
    }
  },
  "nbformat": 4,
  "nbformat_minor": 0
}