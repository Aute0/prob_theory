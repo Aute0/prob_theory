{
  "cells": [
    {
      "cell_type": "markdown",
      "metadata": {
        "id": "view-in-github",
        "colab_type": "text"
      },
      "source": [
        "<a href=\"https://colab.research.google.com/github/Aute0/prob_theory/blob/main/Th_Probe_hw2.ipynb\" target=\"_parent\"><img src=\"https://colab.research.google.com/assets/colab-badge.svg\" alt=\"Open In Colab\"/></a>"
      ]
    },
    {
      "cell_type": "code",
      "execution_count": 1,
      "metadata": {
        "id": "9rZWFhKZz5LV"
      },
      "outputs": [],
      "source": [
        "import pandas as pd\n",
        "import numpy as np\n",
        "from math import factorial as fl"
      ]
    },
    {
      "cell_type": "markdown",
      "metadata": {
        "id": "ZHyYVUYzz5LY"
      },
      "source": [
        "**Задача №1**\n",
        "\n",
        "Вероятность того, что стрелок попадет в мишень, выстрелив один раз, равна 0.8. Стрелок выстрелил 100 раз. Найдите вероятность того, что стрелок попадет в цель ровно 85 раз."
      ]
    },
    {
      "cell_type": "markdown",
      "metadata": {
        "id": "Zyp8RBhKz5Lb"
      },
      "source": [
        "$$P_n(X=k) = C_n^k p^k q^{n-k}$$"
      ]
    },
    {
      "cell_type": "markdown",
      "metadata": {
        "id": "2LQFl9jUz5Lc"
      },
      "source": [
        "Используем биноминальное распределение с параметрами:\n",
        "    \n",
        "    k = 85    \n",
        "    n = 100\n",
        "    p = 0.8\n",
        "    q = 1 - p = 1 - 0.8 = 0.2"
      ]
    },
    {
      "cell_type": "markdown",
      "metadata": {
        "id": "892YXsDsz5Le"
      },
      "source": [
        "$P_{100}(X=85) = C_{100}^{85} {0.8}^{85} {0.2}^{100-85} = $"
      ]
    },
    {
      "cell_type": "code",
      "execution_count": 2,
      "metadata": {
        "id": "DPfHMyQ5z5Lg",
        "outputId": "f518d068-e36b-4b35-b2e1-8a872a31ea58",
        "colab": {
          "base_uri": "https://localhost:8080/"
        }
      },
      "outputs": [
        {
          "output_type": "stream",
          "name": "stdout",
          "text": [
            "Вероятность того, что стрелок из ста выстрелов попадет в мишень ровно 85 раз = 0.0481\n"
          ]
        }
      ],
      "source": [
        "P100 = (fl(100) / (fl(85) * fl(100 - 85))) * 0.8 ** 85 * 0.2 ** (100 - 85)\n",
        "print(f'Вероятность того, что стрелок из ста выстрелов попадет в мишень ровно 85 раз = {P100 :.4f}')"
      ]
    },
    {
      "cell_type": "markdown",
      "source": [
        "\n",
        "\n",
        "---\n",
        "\n"
      ],
      "metadata": {
        "id": "jvr9AtRc0Z5R"
      }
    },
    {
      "cell_type": "markdown",
      "metadata": {
        "id": "b0jynwbCz5Lg"
      },
      "source": [
        "**Задача №2**\n",
        "\n",
        "Вероятность того, что лампочка перегорит в течение первого дня эксплуатации, равна 0.0004. В жилом комплексе после ремонта в один день включили 5000 новых лампочек. Какова вероятность, что ни одна из них не перегорит в первый день? Какова вероятность, что перегорят ровно две?"
      ]
    },
    {
      "cell_type": "markdown",
      "metadata": {
        "id": "PV9Lz9Suz5Lg"
      },
      "source": [
        "А - не перегорела ни одна лампочка\n"
      ]
    },
    {
      "cell_type": "markdown",
      "metadata": {
        "id": "1jRDfJXcz5Lh"
      },
      "source": [
        "$P(A) = 1 - q ^ n$"
      ]
    },
    {
      "cell_type": "code",
      "execution_count": 4,
      "metadata": {
        "id": "LkpbU3Hoz5Li"
      },
      "outputs": [],
      "source": [
        "# формула Пуассона\n",
        "def fP(m, n, p):\n",
        "    lambda_ = n * p\n",
        "    return (lambda_**m / fl(m)) * np.exp(-lambda_)"
      ]
    },
    {
      "cell_type": "markdown",
      "source": [
        "Какова вероятность, что ни одна из них не перегорит в первый день?"
      ],
      "metadata": {
        "id": "-b1fDgGD1aFp"
      }
    },
    {
      "cell_type": "code",
      "source": [
        "n = 5000\n",
        "p = 0.0004\n",
        "m = 0"
      ],
      "metadata": {
        "id": "OaF5g4AQ1ZJd"
      },
      "execution_count": 5,
      "outputs": []
    },
    {
      "cell_type": "code",
      "source": [
        "print(f'Вероятность того, что ни одна лампочка не перегорит = {1 - fP(m, n, p) :.4f}')"
      ],
      "metadata": {
        "id": "EC35U5Ke1psj",
        "outputId": "52a8885a-41dd-46fb-adbb-8ce304e929c6",
        "colab": {
          "base_uri": "https://localhost:8080/"
        }
      },
      "execution_count": 9,
      "outputs": [
        {
          "output_type": "stream",
          "name": "stdout",
          "text": [
            "Вероятность того, что ни одна лампочка не перегорит = 0.8647\n"
          ]
        }
      ]
    },
    {
      "cell_type": "markdown",
      "source": [
        "Какова вероятность, что перегорят ровно две?"
      ],
      "metadata": {
        "id": "CxqhELdw1YyH"
      }
    },
    {
      "cell_type": "code",
      "source": [
        "n = 5000\n",
        "p = 0.0004\n",
        "m = 2\n",
        "print(f'Вероятность того, что перегорят ровно две лампочки = {fP(m, n, p) :.4f}')"
      ],
      "metadata": {
        "id": "cJ_TimYP2Lek",
        "outputId": "0ab963ed-df97-439c-86d8-13a219730ede",
        "colab": {
          "base_uri": "https://localhost:8080/"
        }
      },
      "execution_count": 10,
      "outputs": [
        {
          "output_type": "stream",
          "name": "stdout",
          "text": [
            "Вероятность того, что перегорят ровно две лампочки = 0.2707\n"
          ]
        }
      ]
    },
    {
      "cell_type": "markdown",
      "metadata": {
        "id": "6YJf0Gyyz5Lj"
      },
      "source": [
        "**Задача №3**\n",
        "\n",
        "Монету подбросили 144 раза. Какова вероятность, что орел выпадет ровно 70 раз?"
      ]
    },
    {
      "cell_type": "markdown",
      "metadata": {
        "id": "zBKYwZq0z5Lk"
      },
      "source": [
        "А - монета выпала 40 раз\n",
        "\n",
        "- n = 144\n",
        "- k = 70\n",
        "- p = 0.5\n",
        "- q = 0.5"
      ]
    },
    {
      "cell_type": "markdown",
      "metadata": {
        "id": "LnHybqhcz5Ll"
      },
      "source": [
        "$P_{144}(X=70) = C_{144}^{70} {0.5}^{70} {0.5}^{144-70} = $"
      ]
    },
    {
      "cell_type": "code",
      "execution_count": 11,
      "metadata": {
        "id": "LnI5bKbrz5Ll",
        "outputId": "d6398120-133d-41e9-ba4c-eb538e7da9c0",
        "colab": {
          "base_uri": "https://localhost:8080/"
        }
      },
      "outputs": [
        {
          "output_type": "stream",
          "name": "stdout",
          "text": [
            "Вероятность того, что орел выпадет ровно 70 раз = 0.0628\n"
          ]
        }
      ],
      "source": [
        "P144 = (fl(144) / (fl(70) * fl(144 - 70))) * 0.5 ** 70 * 0.5 ** (144 - 70)\n",
        "\n",
        "print(f'Вероятность того, что орел выпадет ровно 70 раз = {P144 :.4f}')"
      ]
    },
    {
      "cell_type": "markdown",
      "metadata": {
        "id": "WVcF10BXz5Lm"
      },
      "source": [
        "**Задача №4** \n",
        "\n",
        "В первом ящике находится 10 мячей, из которых 7 - белые. Во втором ящике - 11 мячей, из которых 9 белых. Из каждого ящика вытаскивают случайным образом по два мяча. Какова вероятность того, что все мячи белые? Какова вероятность того, что ровно два мяча белые? Какова вероятность того, что хотя бы один мяч белый?"
      ]
    },
    {
      "cell_type": "markdown",
      "metadata": {
        "id": "rWXUN8NJz5Lm"
      },
      "source": [
        "А1 - мячи, вынутые из первого ящика все белые\n",
        "\n",
        "А2 - мячи, вынутые из второго ящика все белые\n",
        "\n",
        "А = А1 * А2 - все мячи белые"
      ]
    },
    {
      "cell_type": "markdown",
      "metadata": {
        "id": "pUEI0TySz5Lm"
      },
      "source": [
        "$P(A1) =  \\frac{C_{7}^{2}}{C_{10}^{2} }$\n",
        "\n",
        "$P(A2) =  \\frac{C_{9}^{2}}{C_{11}^{2} }$\n",
        "\n",
        "$P(A) = P(A1)*P(A2)$"
      ]
    },
    {
      "cell_type": "code",
      "execution_count": 12,
      "metadata": {
        "id": "Wfhyk2Mzz5Ln",
        "outputId": "48826938-b2e4-48c0-c7ca-48540efaef54",
        "colab": {
          "base_uri": "https://localhost:8080/"
        }
      },
      "outputs": [
        {
          "output_type": "stream",
          "name": "stdout",
          "text": [
            "Вероятность того, что все мячи белые = 0.305\n"
          ]
        }
      ],
      "source": [
        "PA1 = (fl(7) / (fl(2)*fl(7 - 2))) / (fl(10) / (fl(2)*fl(10 - 2)))\n",
        "PA2 = (fl(9) / (fl(2)*fl(9 - 2))) / (fl(11) / (fl(2)*fl(11 - 2)))\n",
        "print(f'Вероятность того, что все мячи белые = {PA1 * PA2 :.3f}')"
      ]
    },
    {
      "cell_type": "markdown",
      "metadata": {
        "id": "p4DefcgVz5Lo"
      },
      "source": [
        "A11 - из первого ящика вынули 2 белых мяча\n",
        "\n",
        "А12 - из второго ящика вынули только черные мячи\n",
        "\n",
        "А21 - из второго ящика вынули 2 белых мяча\n",
        "\n",
        "А22 - из первого ящика вынули только черные мячи\n",
        "\n",
        "А31 - из первого ящика вынули 1 белый мячи\n",
        "\n",
        "А32 - из второго ящика вынули 1 белый мячи\n",
        "\n",
        "А = А11 * А12 + А21 * А22 + А31 * А32 - вынули ровно 2 белых мяча"
      ]
    },
    {
      "cell_type": "markdown",
      "metadata": {
        "id": "to61QMVFz5Lo"
      },
      "source": [
        "$P(A11) =  \\frac{C_{7}^{2}}{C_{10}^{2} }$\n",
        "\n",
        "$P(A12) =\\frac{C_{2}^{2}}{C_{11}^{2} }$"
      ]
    },
    {
      "cell_type": "code",
      "execution_count": null,
      "metadata": {
        "id": "MKEIJqp6z5Lo"
      },
      "outputs": [],
      "source": [
        "PA11A12 =  (fl(7) / (fl(2)*fl(7 - 2))) / (fl(10) / (fl(2)*fl(10 - 2))) * (fl(2) / (fl(2)*fl(2 - 2))) / (fl(11) / (fl(2)*fl(11 - 2)))"
      ]
    },
    {
      "cell_type": "markdown",
      "metadata": {
        "id": "t6jdxjnsz5Lp"
      },
      "source": [
        "$P(A21) =\\frac{C_{3}^{2}}{C_{10}^{2} }$\n",
        "\n",
        "$P(A22) = \\frac{C_{9}^{2}}{C_{11}^{2} }$"
      ]
    },
    {
      "cell_type": "code",
      "execution_count": null,
      "metadata": {
        "id": "IAdx-6gpz5Lp"
      },
      "outputs": [],
      "source": [
        "PA21A22 = (fl(3) / (fl(2)*fl(3 - 2))) / (fl(10) / (fl(2)*fl(10 - 2))) * (fl(9) / (fl(2)*fl(9 - 2))) / (fl(11) / (fl(2)*fl(11 - 2)))"
      ]
    },
    {
      "cell_type": "markdown",
      "metadata": {
        "id": "OgAOUysyz5Lp"
      },
      "source": [
        "$P(A31) =  \\frac{C_{7}^{1} * C_{3}^{1}}{C_{10}^{2} }$\n",
        "\n",
        "$P(A33) =  \\frac{C_{9}^{1} * C_{2}^{1}}{C_{11}^{2} }$"
      ]
    },
    {
      "cell_type": "code",
      "execution_count": null,
      "metadata": {
        "id": "2qrQe4R_z5Lq"
      },
      "outputs": [],
      "source": [
        "PA31 = (fl(7) / (fl(1)*fl(7 - 1)) * fl(3)) / (fl(1)*fl(3 - 1)) / (fl(10) / (fl(2)*fl(10 - 2))) \n",
        "PA32 = (fl(9) / (fl(1)*fl(9 - 1)) * fl(2)) / (fl(1)*fl(2 - 1)) / (fl(11) / (fl(2)*fl(11 - 2)))"
      ]
    },
    {
      "cell_type": "code",
      "execution_count": null,
      "metadata": {
        "id": "ZhcBYwmvz5Lq",
        "outputId": "fe46cc3f-43f0-42b1-beda-f89ef3578633"
      },
      "outputs": [
        {
          "name": "stdout",
          "output_type": "stream",
          "text": [
            "Вероятность того, что вынут ровно два белых мяча = 0.205\n"
          ]
        }
      ],
      "source": [
        "PA = PA11A12 + PA21A22 + PA31 * PA32\n",
        "print(f'Вероятность того, что вынут ровно два белых мяча = {PA :.3f}')"
      ]
    },
    {
      "cell_type": "code",
      "execution_count": null,
      "metadata": {
        "id": "ryrrm18Ez5Lr",
        "outputId": "78f00d47-443a-4cc8-bbb0-7360a4a418b9"
      },
      "outputs": [
        {
          "name": "stdout",
          "output_type": "stream",
          "text": [
            "Вероятность того, что вытянут хотя бы один белый мяч = 0.999\n"
          ]
        }
      ],
      "source": [
        "PA = 1 - (fl(3) / (fl(2)*fl(3 - 2))) / (fl(10) / (fl(2)*fl(10 - 2))) * (fl(2) / (fl(2)*fl(2 - 2))) / (fl(11) / (fl(2)*fl(11 - 2)))\n",
        "print(f'Вероятность того, что вытянут хотя бы один белый мяч = {PA :.3f}')"
      ]
    },
    {
      "cell_type": "code",
      "execution_count": null,
      "metadata": {
        "id": "ocziYjktz5Lr"
      },
      "outputs": [],
      "source": []
    }
  ],
  "metadata": {
    "kernelspec": {
      "display_name": "Python 3",
      "language": "python",
      "name": "python3"
    },
    "language_info": {
      "codemirror_mode": {
        "name": "ipython",
        "version": 3
      },
      "file_extension": ".py",
      "mimetype": "text/x-python",
      "name": "python",
      "nbconvert_exporter": "python",
      "pygments_lexer": "ipython3",
      "version": "3.11.0"
    },
    "vscode": {
      "interpreter": {
        "hash": "c261aea317cc0286b3b3261fbba9abdec21eaa57589985bb7a274bf54d6cc0a7"
      }
    },
    "colab": {
      "provenance": [],
      "include_colab_link": true
    }
  },
  "nbformat": 4,
  "nbformat_minor": 0
}