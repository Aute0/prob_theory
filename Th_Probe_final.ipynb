{
 "cells": [
  {
   "cell_type": "code",
   "execution_count": 1,
   "metadata": {},
   "outputs": [],
   "source": [
    "import pandas as pd\n",
    "import numpy as np\n",
    "import scipy.stats as stats\n",
    "import matplotlib.pyplot as plt\n",
    "from sklearn.linear_model import LinearRegression"
   ]
  },
  {
   "attachments": {},
   "cell_type": "markdown",
   "metadata": {},
   "source": [
    "Провести дисперсионный анализ для определения того, есть ли различия среднего роста среди взрослых футболистов, хоккеистов и штангистов. \n",
    "\n",
    "Даны значения роста в трех группах случайно выбранных спортсменов: \n",
    "- Футболисты: 173, 175, 180, 178, 177, 185, 183, 182. \n",
    "- Хоккеисты: 177, 179, 180, 188, 177, 172, 171, 184, 180. \n",
    "- Штангисты: 172, 173, 169, 177, 166, 180, 178, 177, 172, 166, 170."
   ]
  },
  {
   "attachments": {},
   "cell_type": "markdown",
   "metadata": {},
   "source": [
    "Внесем все данные о выборках:\n",
    "\n",
    "* n1 = 8\n",
    "* n2 = 9\n",
    "* n3 = 11\n",
    "\n",
    "n = n1 + n2 + n3 = 28 - Количество значений всего\n",
    "\n",
    "k = 3 - Три группы"
   ]
  },
  {
   "cell_type": "code",
   "execution_count": 16,
   "metadata": {},
   "outputs": [],
   "source": [
    "n1 = 8\n",
    "n2 = 9\n",
    "n3 = 11\n",
    "n = n1 + n2 + n3\n",
    "k = 3"
   ]
  },
  {
   "cell_type": "code",
   "execution_count": 2,
   "metadata": {},
   "outputs": [],
   "source": [
    "y1 = np.array([173, 175, 180, 178, 177, 185, 183, 182], dtype=np.float64)\n",
    "y2 = np.array([177, 179, 180, 188, 177, 172, 171, 184, 180], dtype=np.float64)\n",
    "y3 = np.array([172, 173, 169, 177, 166, 180, 178,\n",
    "              177, 172, 166, 170], dtype=np.float64)\n"
   ]
  },
  {
   "attachments": {},
   "cell_type": "markdown",
   "metadata": {},
   "source": [
    "Проведем однофакторный дисперсионный анализ. \n",
    "\n",
    "Для начала необходимо найти средний рост для каждой профессии:"
   ]
  },
  {
   "cell_type": "code",
   "execution_count": 3,
   "metadata": {},
   "outputs": [
    {
     "name": "stdout",
     "output_type": "stream",
     "text": [
      "179.125\n"
     ]
    }
   ],
   "source": [
    "y1_mean = np.mean(y1)\n",
    "print(y1_mean)\n"
   ]
  },
  {
   "cell_type": "code",
   "execution_count": 4,
   "metadata": {},
   "outputs": [
    {
     "name": "stdout",
     "output_type": "stream",
     "text": [
      "178.66666666666666\n"
     ]
    }
   ],
   "source": [
    "y2_mean = np.mean(y2)\n",
    "print(y2_mean)\n"
   ]
  },
  {
   "cell_type": "code",
   "execution_count": 5,
   "metadata": {},
   "outputs": [
    {
     "name": "stdout",
     "output_type": "stream",
     "text": [
      "172.72727272727272\n"
     ]
    }
   ],
   "source": [
    "y3_mean = np.mean(y3)\n",
    "print(y3_mean)\n"
   ]
  },
  {
   "attachments": {},
   "cell_type": "markdown",
   "metadata": {},
   "source": [
    "Соберем все данные в один массив:"
   ]
  },
  {
   "cell_type": "code",
   "execution_count": 6,
   "metadata": {},
   "outputs": [
    {
     "data": {
      "text/plain": [
       "array([173., 175., 180., 178., 177., 185., 183., 182., 177., 179., 180.,\n",
       "       188., 177., 172., 171., 184., 180., 172., 173., 169., 177., 166.,\n",
       "       180., 178., 177., 172., 166., 170.])"
      ]
     },
     "execution_count": 6,
     "metadata": {},
     "output_type": "execute_result"
    }
   ],
   "source": [
    "y_all = np.concatenate([y1, y2, y3])\n",
    "y_all\n"
   ]
  },
  {
   "attachments": {},
   "cell_type": "markdown",
   "metadata": {},
   "source": [
    "Проведем последовательно все операции регрессионного анализа, как в лекции:"
   ]
  },
  {
   "cell_type": "code",
   "execution_count": 7,
   "metadata": {},
   "outputs": [
    {
     "name": "stdout",
     "output_type": "stream",
     "text": [
      "176.46428571428572\n"
     ]
    }
   ],
   "source": [
    "y_mean = np.mean(y_all) # Среднее по всем спортсменам\n",
    "print(y_mean)\n"
   ]
  },
  {
   "cell_type": "code",
   "execution_count": 8,
   "metadata": {},
   "outputs": [
    {
     "data": {
      "text/plain": [
       "830.9642857142854"
      ]
     },
     "execution_count": 8,
     "metadata": {},
     "output_type": "execute_result"
    }
   ],
   "source": [
    "# сумма квадратов отклонений наблюдений от общего среднего\n",
    "s2 = np.sum((y_all - y_mean)**2)\n",
    "s2\n"
   ]
  },
  {
   "cell_type": "code",
   "execution_count": 10,
   "metadata": {},
   "outputs": [
    {
     "data": {
      "text/plain": [
       "253.9074675324678"
      ]
     },
     "execution_count": 10,
     "metadata": {},
     "output_type": "execute_result"
    }
   ],
   "source": [
    "# сумма квадратов отклонений средних групповых значений от общего среднего:\n",
    "s2_f = ((y1_mean - y_mean)**2) * n1 + ((y2_mean - y_mean)**2) * \\\n",
    "    n2 + ((y3_mean - y_mean)**2) * n3\n",
    "s2_f\n"
   ]
  },
  {
   "cell_type": "code",
   "execution_count": 11,
   "metadata": {},
   "outputs": [
    {
     "data": {
      "text/plain": [
       "577.0568181818182"
      ]
     },
     "execution_count": 11,
     "metadata": {},
     "output_type": "execute_result"
    }
   ],
   "source": [
    "# остаточная сумма квадратов отклонений\n",
    "s2_residual = np.sum((y1 - y1_mean)**2) + \\\n",
    "    np.sum((y2 - y2_mean)**2) + np.sum((y3 - y3_mean)**2)\n",
    "s2_residual\n"
   ]
  },
  {
   "attachments": {},
   "cell_type": "markdown",
   "metadata": {},
   "source": [
    "Проверка на **равенство остаточных**:\n",
    "\n",
    "  \"сумма квадратов отклонений наблюдений от общего среднего = сумма квадратов отклонений средних групповых значений от общего среднего + остаточная сумма квадратов отклонений\""
   ]
  },
  {
   "cell_type": "code",
   "execution_count": 12,
   "metadata": {},
   "outputs": [
    {
     "name": "stdout",
     "output_type": "stream",
     "text": [
      "830.9642857142854\n",
      "830.964285714286\n"
     ]
    }
   ],
   "source": [
    "print(s2)\n",
    "print(s2_f + s2_residual)\n"
   ]
  },
  {
   "attachments": {},
   "cell_type": "markdown",
   "metadata": {},
   "source": [
    "Определим сигму генеральной совокупности:"
   ]
  },
  {
   "cell_type": "code",
   "execution_count": 15,
   "metadata": {},
   "outputs": [
    {
     "data": {
      "text/plain": [
       "30.776455026455015"
      ]
     },
     "execution_count": 15,
     "metadata": {},
     "output_type": "execute_result"
    }
   ],
   "source": [
    "sigma2_general = s2 / (n - 1)\n",
    "sigma2_general\n"
   ]
  },
  {
   "cell_type": "code",
   "execution_count": 17,
   "metadata": {},
   "outputs": [
    {
     "data": {
      "text/plain": [
       "126.9537337662339"
      ]
     },
     "execution_count": 17,
     "metadata": {},
     "output_type": "execute_result"
    }
   ],
   "source": [
    "sigma2_f = s2_f / (k - 1) # факторная (зависимая) дисперсия\n",
    "sigma2_f\n"
   ]
  },
  {
   "cell_type": "code",
   "execution_count": 18,
   "metadata": {},
   "outputs": [
    {
     "data": {
      "text/plain": [
       "23.08227272727273"
      ]
     },
     "execution_count": 18,
     "metadata": {},
     "output_type": "execute_result"
    }
   ],
   "source": [
    "sigma2_residual = s2_residual / (n - k) # остаточная дисперсия\n",
    "sigma2_residual\n"
   ]
  },
  {
   "cell_type": "code",
   "execution_count": 19,
   "metadata": {},
   "outputs": [
    {
     "data": {
      "text/plain": [
       "5.500053450812598"
      ]
     },
     "execution_count": 19,
     "metadata": {},
     "output_type": "execute_result"
    }
   ],
   "source": [
    "F_h = sigma2_f / sigma2_residual # критерий Фишера\n",
    "F_h\n"
   ]
  },
  {
   "attachments": {},
   "cell_type": "markdown",
   "metadata": {},
   "source": [
    "Найдем значение критерия Фишера в **таблице** критических точек распределения Фишера-Снедекора для заданного уровня значимости a = 0.05 и двух степеней свободы:\n",
    "\n",
    "    k-1 = 2 и n-k=25 ===> F_cr = 3.3852\n",
    "\n",
    "Так как критерий рассчетный больше критерия табличного ==> отвергнута гипотеза Н0.\n",
    "\n",
    "**Различие роста в трех группах статистически значимо.**"
   ]
  },
  {
   "cell_type": "code",
   "execution_count": 26,
   "metadata": {},
   "outputs": [
    {
     "data": {
      "text/plain": [
       "F_onewayResult(statistic=5.500053450812596, pvalue=0.010482206918698693)"
      ]
     },
     "execution_count": 26,
     "metadata": {},
     "output_type": "execute_result"
    }
   ],
   "source": [
    "f = stats.f_oneway(y1, y2, y3)\n",
    "f"
   ]
  }
 ],
 "metadata": {
  "kernelspec": {
   "display_name": "Python 3",
   "language": "python",
   "name": "python3"
  },
  "language_info": {
   "codemirror_mode": {
    "name": "ipython",
    "version": 3
   },
   "file_extension": ".py",
   "mimetype": "text/x-python",
   "name": "python",
   "nbconvert_exporter": "python",
   "pygments_lexer": "ipython3",
   "version": "3.11.0"
  },
  "vscode": {
   "interpreter": {
    "hash": "c261aea317cc0286b3b3261fbba9abdec21eaa57589985bb7a274bf54d6cc0a7"
   }
  }
 },
 "nbformat": 4,
 "nbformat_minor": 2
}
