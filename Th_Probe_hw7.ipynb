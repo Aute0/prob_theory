{
 "cells": [
  {
   "cell_type": "code",
   "execution_count": 1,
   "metadata": {},
   "outputs": [],
   "source": [
    "import pandas as pd\n",
    "import numpy as np\n",
    "import scipy.stats as stats"
   ]
  },
  {
   "attachments": {},
   "cell_type": "markdown",
   "metadata": {},
   "source": [
    "# **Задача №1**"
   ]
  },
  {
   "attachments": {},
   "cell_type": "markdown",
   "metadata": {},
   "source": [
    "Не соблюдается условие нормальности | Две независимые выборки\n",
    "\n",
    "**x1:** 380, 420, 290\n",
    "\n",
    "**y1:** 140, 360, 200, 900\n",
    "\n",
    "Сделайте вывод по результатам, полученным с помощью функции.\n",
    "\n",
    "**Решение:**\n",
    "\n",
    "Используем непараметрические тест + **критерий Манна- Уитни**."
   ]
  },
  {
   "cell_type": "code",
   "execution_count": 2,
   "metadata": {},
   "outputs": [],
   "source": [
    "x1 = np.array([380, 420, 290])\n",
    "y1 = np.array([140, 360, 200, 900])"
   ]
  },
  {
   "cell_type": "code",
   "execution_count": 3,
   "metadata": {},
   "outputs": [
    {
     "data": {
      "text/plain": [
       "MannwhitneyuResult(statistic=8.0, pvalue=0.6285714285714286)"
      ]
     },
     "execution_count": 3,
     "metadata": {},
     "output_type": "execute_result"
    }
   ],
   "source": [
    "stats.mannwhitneyu(x1, y1)"
   ]
  },
  {
   "attachments": {},
   "cell_type": "markdown",
   "metadata": {},
   "source": [
    "**Ответ:**\n",
    "\n",
    "- pvalue=0.62 > а = 0.05\n",
    "\n",
    "Принимаем нулевую гипотезу - статистически важных различий нет.\n"
   ]
  },
  {
   "attachments": {},
   "cell_type": "markdown",
   "metadata": {},
   "source": [
    "# **Задача №2**"
   ]
  },
  {
   "attachments": {},
   "cell_type": "markdown",
   "metadata": {},
   "source": [
    "Исследовалось влияние препарата на уровень давления пациентов. Сначала измерялось давление до приема препарата, потом через 10 минут и через 30 минут. \n",
    "\n",
    "Есть ли статистически значимые различия?\n",
    "\n",
    "**1е измерение до приема препарата:** 150, 160, 165, 145, 155\n",
    "\n",
    "**2е измерение через 10 минут:** 140, 155, 150, 130, 135\n",
    "\n",
    "**3е измерение через 30 минут:** 130, 130, 120, 130, 125\n",
    "\n",
    "**Решение:**\n",
    "Так как про нормальность нам неизвестно, используем непараметрические тест.\n",
    "\n",
    "Множественное сравнение зависимых данных --> **критерий Фридмана**"
   ]
  },
  {
   "cell_type": "code",
   "execution_count": 5,
   "metadata": {},
   "outputs": [
    {
     "data": {
      "text/plain": [
       "FriedmanchisquareResult(statistic=9.578947368421062, pvalue=0.00831683351100441)"
      ]
     },
     "execution_count": 5,
     "metadata": {},
     "output_type": "execute_result"
    }
   ],
   "source": [
    "t0 = np.array ([150, 160, 165, 145, 155])\n",
    "t10 = np.array ([140, 155, 150, 130, 135])\n",
    "t30 = np.array ([130, 130, 120, 130, 125])\n",
    "\n",
    "stats.friedmanchisquare(t0, t10, t30)"
   ]
  },
  {
   "attachments": {},
   "cell_type": "markdown",
   "metadata": {},
   "source": [
    "**Ответ:**\n",
    "\n",
    "- pvalue=0.008 **<** а = 0.05\n",
    "\n",
    "Принимаем альтернативную гипотезу: есть статистически значимые различия."
   ]
  },
  {
   "attachments": {},
   "cell_type": "markdown",
   "metadata": {},
   "source": [
    "# **Задача №3**"
   ]
  },
  {
   "attachments": {},
   "cell_type": "markdown",
   "metadata": {},
   "source": [
    "Сравните 1 и 2 е измерения, предполагая, что 3го измерения через 30 минут не было.\n",
    "\n",
    "**1е измерение до приема препарата:** 150, 160, 165, 145, 155\n",
    "\n",
    "**2е измерение через 10 минут:** 140, 155, 150, 130, 135\n",
    "\n",
    "Есть ли статистически значимые различия?"
   ]
  },
  {
   "attachments": {},
   "cell_type": "markdown",
   "metadata": {},
   "source": [
    "**Решение:**\n",
    "\n",
    "Так как о нормальности нам ничего неизвестно, используем непараметрические тест.\n",
    "\n",
    "Две зависимые выборки --> используем **критерий Уилкоксона.**"
   ]
  },
  {
   "cell_type": "code",
   "execution_count": 6,
   "metadata": {},
   "outputs": [
    {
     "data": {
      "text/plain": [
       "WilcoxonResult(statistic=0.0, pvalue=0.0625)"
      ]
     },
     "execution_count": 6,
     "metadata": {},
     "output_type": "execute_result"
    }
   ],
   "source": [
    "t0 = np.array ([150, 160, 165, 145, 155])\n",
    "t10 = np.array ([140, 155, 150, 130, 135])\n",
    "\n",
    "stats.wilcoxon(t0, t10)"
   ]
  },
  {
   "attachments": {},
   "cell_type": "markdown",
   "metadata": {},
   "source": [
    "**Ответ:**\n",
    "\n",
    "- pvalue=0.0625 **>** а = 0.05\n",
    "\n",
    "Принимаем нулевую гипотезу - статистически важных различий нет."
   ]
  },
  {
   "attachments": {},
   "cell_type": "markdown",
   "metadata": {},
   "source": [
    "# **Задача №4**"
   ]
  },
  {
   "attachments": {},
   "cell_type": "markdown",
   "metadata": {},
   "source": [
    "Даны 3 группы учеников плавания. Время на дистанцию 50 м составляют\n",
    "\n",
    "**Первая группа:** 56, 60, 62, 55, 71, 67, 59, 58, 64, 67\n",
    "\n",
    "**Вторая группа:** 57, 58, 69, 48, 72, 70, 68, 71, 50, 53\n",
    "\n",
    "**Третья группа:** 57, 67, 49, 48, 47, 55, 66, 51, 54\n",
    "\n",
    "Есть ли различия между группами?"
   ]
  },
  {
   "attachments": {},
   "cell_type": "markdown",
   "metadata": {},
   "source": [
    "**Решение:**\n",
    "\n",
    "Так как о нормальности нам ничего неизвестно, используем непараметрические тест.\n",
    "\n",
    "Множественное сравнение независимых данных --> используем **критерий Крускала – Уоллиса(Краскела – Уоллиса).**"
   ]
  },
  {
   "cell_type": "code",
   "execution_count": 7,
   "metadata": {},
   "outputs": [
    {
     "data": {
      "text/plain": [
       "KruskalResult(statistic=5.465564058257224, pvalue=0.06503809985904942)"
      ]
     },
     "execution_count": 7,
     "metadata": {},
     "output_type": "execute_result"
    }
   ],
   "source": [
    "gr_1 = np.array([56, 60, 62, 55, 71, 67, 59, 58, 64, 67])\n",
    "gr_2 = np.array([57, 58, 69, 48, 72, 70, 68, 71, 50, 53])\n",
    "gr_3 = np.array([57, 67, 49, 48, 47, 55, 66, 51, 54])\n",
    "\n",
    "stats.kruskal(gr_1, gr_2, gr_3)\n"
   ]
  },
  {
   "attachments": {},
   "cell_type": "markdown",
   "metadata": {},
   "source": [
    "**Ответ:**\n",
    "\n",
    "- pvalue=0.065 **>** а = 0.05\n",
    "\n",
    "Принимаем нулевую гипотезу - статистически важных различий нет."
   ]
  },
  {
   "attachments": {},
   "cell_type": "markdown",
   "metadata": {},
   "source": [
    "# **Задача №5**"
   ]
  },
  {
   "attachments": {},
   "cell_type": "markdown",
   "metadata": {},
   "source": [
    "Заявляется, что партия изготавливается со средним арифметическим 2,5 см. Проверить данную гипотезу, если известно, что размеры изделий подчинены нормальному закону распределения. Объем выборки 10, уровень статистической значимости 5%\n",
    "\n",
    "2.51, 2.35, 2.74, 2.56, 2.40, 2.36, 2.65, 2.7, 2.67, 2.34"
   ]
  },
  {
   "attachments": {},
   "cell_type": "markdown",
   "metadata": {},
   "source": [
    "**Решение:**\n",
    "\n",
    "Нормальное распределение, используем параметрические тест + **t-критерий (критерий Стьюдента)**, т.к. 𝞼 генеральной совокупности неизвестна.\n",
    "\n",
    "$$t = \\frac{\\overline{x} - μ} {\\sqrt{\\frac{D(X)}{n}}}$$\n",
    "\n",
    "$$ H_0: μ_1 = μ_0 = 2.5 $$\n",
    "\n",
    "$$ H_1: μ_1 \\neq μ _0$$\n",
    "\n",
    "α(альфа) = 0,05(5%) - по условию\n"
   ]
  },
  {
   "cell_type": "code",
   "execution_count": 9,
   "metadata": {},
   "outputs": [
    {
     "data": {
      "text/plain": [
       "0.5630613661802959"
      ]
     },
     "execution_count": 9,
     "metadata": {},
     "output_type": "execute_result"
    }
   ],
   "source": [
    "nums = np.array([2.51, 2.35, 2.74, 2.56, 2.40, 2.36, 2.65, 2.7, 2.67, 2.34])\n",
    "disp = np.var(nums, ddof=1)\n",
    "aver = np.mean(nums)\n",
    "μ = 2.5\n",
    "t = (aver - μ) /np.sqrt(disp/len(nums))\n",
    "t"
   ]
  },
  {
   "attachments": {},
   "cell_type": "markdown",
   "metadata": {},
   "source": [
    "Табличное значение t-критерия для двусторонего теста (а = 0,025)"
   ]
  },
  {
   "cell_type": "code",
   "execution_count": 10,
   "metadata": {},
   "outputs": [
    {
     "name": "stdout",
     "output_type": "stream",
     "text": [
      "Табличное значение t-критерия:  2.262\n"
     ]
    }
   ],
   "source": [
    "t_t = stats.t.ppf(0.975, len(nums)-1)\n",
    "print(f'Табличное значение t-критерия: {t_t: .3f}')\n"
   ]
  },
  {
   "attachments": {},
   "cell_type": "markdown",
   "metadata": {},
   "source": [
    "**Ответ:**\n",
    "\n",
    "Принимаем **нулевую** гипотезу с уровенем статистической значимости 5%, что партия изготавливается со средним арифметическим 2,5 см."
   ]
  }
 ],
 "metadata": {
  "kernelspec": {
   "display_name": "Python 3",
   "language": "python",
   "name": "python3"
  },
  "language_info": {
   "codemirror_mode": {
    "name": "ipython",
    "version": 3
   },
   "file_extension": ".py",
   "mimetype": "text/x-python",
   "name": "python",
   "nbconvert_exporter": "python",
   "pygments_lexer": "ipython3",
   "version": "3.11.0"
  },
  "vscode": {
   "interpreter": {
    "hash": "c261aea317cc0286b3b3261fbba9abdec21eaa57589985bb7a274bf54d6cc0a7"
   }
  }
 },
 "nbformat": 4,
 "nbformat_minor": 2
}
