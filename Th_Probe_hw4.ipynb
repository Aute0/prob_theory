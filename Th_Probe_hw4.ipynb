{
  "cells": [
    {
      "cell_type": "markdown",
      "metadata": {
        "id": "view-in-github",
        "colab_type": "text"
      },
      "source": [
        "<a href=\"https://colab.research.google.com/github/Aute0/prob_theory/blob/main/Th_Probe_hw4.ipynb\" target=\"_parent\"><img src=\"https://colab.research.google.com/assets/colab-badge.svg\" alt=\"Open In Colab\"/></a>"
      ]
    },
    {
      "cell_type": "code",
      "execution_count": null,
      "metadata": {
        "id": "BVFuZlqXol1u"
      },
      "outputs": [],
      "source": [
        "import pandas as pd\n",
        "import numpy as np\n",
        "from math import factorial as fl\n",
        "import scipy.stats as st\n"
      ]
    },
    {
      "cell_type": "markdown",
      "metadata": {
        "id": "1JKIkeQFol1w"
      },
      "source": [
        "1. Случайная непрерывная величина A имеет равномерное распределение на промежутке (200, 800]. \n",
        "Найдите ее среднее значение и дисперсию."
      ]
    },
    {
      "cell_type": "markdown",
      "metadata": {
        "id": "ucK0Ujuqol1z"
      },
      "source": [
        "$M(X) = \\frac{a + b}{2} =$"
      ]
    },
    {
      "cell_type": "code",
      "execution_count": null,
      "metadata": {
        "id": "56athHD3ol10",
        "outputId": "6dae8bdc-9c2d-47c5-fbcf-b024f19e21b5"
      },
      "outputs": [
        {
          "data": {
            "text/plain": [
              "500.0"
            ]
          },
          "execution_count": 3,
          "metadata": {},
          "output_type": "execute_result"
        }
      ],
      "source": [
        "MX = (200 + 800) / 2\n",
        "MX"
      ]
    },
    {
      "cell_type": "markdown",
      "metadata": {
        "id": "4MJ6pLE6ol11"
      },
      "source": [
        "$D(X) = \\frac{(b - a)^2}{12} =$"
      ]
    },
    {
      "cell_type": "code",
      "execution_count": null,
      "metadata": {
        "id": "yUZhWojzol12",
        "outputId": "15e2b400-3db7-4543-9805-bd12aefbfd61"
      },
      "outputs": [
        {
          "data": {
            "text/plain": [
              "30000.0"
            ]
          },
          "execution_count": 5,
          "metadata": {},
          "output_type": "execute_result"
        }
      ],
      "source": [
        "DX = (800 - 200) ** 2 / 12\n",
        "DX"
      ]
    },
    {
      "cell_type": "markdown",
      "metadata": {
        "id": "2m1BLs8qol13"
      },
      "source": [
        "2\\. О случайной непрерывной равномерно распределенной величине B известно, что ее дисперсия равна 0.2.\n",
        "Можно ли найти правую границу величины B и ее среднее значение зная, что левая граница равна 0.5?\n",
        "Если да, найдите ее."
      ]
    },
    {
      "cell_type": "code",
      "execution_count": null,
      "metadata": {
        "id": "4k9uwjG1ol14",
        "outputId": "b7254be6-a4e6-42f4-beac-99e2ade80e28"
      },
      "outputs": [
        {
          "data": {
            "text/plain": [
              "2.049193338482967"
            ]
          },
          "execution_count": 30,
          "metadata": {},
          "output_type": "execute_result"
        }
      ],
      "source": [
        "0.5 + np.sqrt(12 * 0.2)"
      ]
    },
    {
      "cell_type": "markdown",
      "metadata": {
        "id": "OlxqRSaUol15"
      },
      "source": [
        "3\\. Непрерывная случайная величина C распределена нормально и задана плотностью распределения\n",
        "f(x) = (1 / (4 * sqrt(2*pi))) * (exp(-(x+2)**2) / 32).Найдите:"
      ]
    },
    {
      "cell_type": "markdown",
      "metadata": {
        "id": "vTuAzIt0ol16"
      },
      "source": [
        "3.a)  M(X)="
      ]
    },
    {
      "cell_type": "markdown",
      "metadata": {
        "id": "Eg1hw6Fkol17"
      },
      "source": [
        " В общем виде плотность нормального распределения имеет вид: $f(x) = \\frac{1}{\\sigma \\sqrt{2 \\pi}} e ^ {- \\frac{(x - a)^2}{2 \\sigma^2}},$\n",
        " \n",
        " где $a = M(X)$,\n",
        " \n",
        " следовательно:"
      ]
    },
    {
      "cell_type": "code",
      "execution_count": null,
      "metadata": {
        "id": "1bgQ6nYPol18"
      },
      "outputs": [],
      "source": [
        "MX = -2"
      ]
    },
    {
      "cell_type": "markdown",
      "metadata": {
        "id": "R8CEA24dol18"
      },
      "source": [
        "3.b)D(X)"
      ]
    },
    {
      "cell_type": "code",
      "execution_count": null,
      "metadata": {
        "id": "rf35pzK3ol19",
        "outputId": "7f91de1b-2d22-41d8-f427-34d60596b506"
      },
      "outputs": [
        {
          "data": {
            "text/plain": [
              "16.0"
            ]
          },
          "execution_count": 9,
          "metadata": {},
          "output_type": "execute_result"
        }
      ],
      "source": [
        "DX = 32 / 2\n",
        "DX"
      ]
    },
    {
      "cell_type": "markdown",
      "metadata": {
        "id": "ys8CkaPEol1-"
      },
      "source": [
        "3. c) std(X) (среднее квадратичное отклонение)"
      ]
    },
    {
      "cell_type": "code",
      "execution_count": null,
      "metadata": {
        "id": "BDWDCn2Wol1-"
      },
      "outputs": [],
      "source": [
        "stdX = 4"
      ]
    },
    {
      "cell_type": "markdown",
      "metadata": {
        "id": "oAUJGdtsol1_"
      },
      "source": [
        "4\\. Рост взрослого населения города X имеет нормальное распределение. \n",
        "Причем, средний рост равен 174 см, а среднее квадратичное отклонение равно 8 см.\n",
        "Какова вероятность того, что случайным образом выбранный взрослый человек имеет рост:\n"
      ]
    },
    {
      "cell_type": "markdown",
      "metadata": {
        "id": "eleRv7SKol1_"
      },
      "source": [
        "а). больше 182 см"
      ]
    },
    {
      "cell_type": "code",
      "execution_count": null,
      "metadata": {
        "id": "v9QdKGTUol2A",
        "outputId": "5f36dd5a-b706-485e-813b-51656167af35"
      },
      "outputs": [
        {
          "data": {
            "text/plain": [
              "0.15865525393145707"
            ]
          },
          "execution_count": 19,
          "metadata": {},
          "output_type": "execute_result"
        }
      ],
      "source": [
        "\n",
        "hight = st.norm(loc=174, scale=8)\n",
        "1 - hight.cdf(182)"
      ]
    },
    {
      "cell_type": "markdown",
      "metadata": {
        "id": "pZpt6sLbol2A"
      },
      "source": [
        "б). больше 190 см"
      ]
    },
    {
      "cell_type": "code",
      "execution_count": null,
      "metadata": {
        "id": "vaxYG0LHol2A",
        "outputId": "187f6bd9-c95a-4fab-f819-0f6ffbc96ce4"
      },
      "outputs": [
        {
          "data": {
            "text/plain": [
              "0.02275013194817921"
            ]
          },
          "execution_count": 20,
          "metadata": {},
          "output_type": "execute_result"
        }
      ],
      "source": [
        "1 - hight.cdf(190)"
      ]
    },
    {
      "cell_type": "markdown",
      "metadata": {
        "id": "pi7A3FVMol2B"
      },
      "source": [
        "в). от 166 см до 190 см"
      ]
    },
    {
      "cell_type": "code",
      "execution_count": null,
      "metadata": {
        "id": "rlPHYNnxol2B",
        "outputId": "c7623bc4-b2a0-4303-fca9-36962455e6eb"
      },
      "outputs": [
        {
          "data": {
            "text/plain": [
              "0.8185946141203637"
            ]
          },
          "execution_count": 21,
          "metadata": {},
          "output_type": "execute_result"
        }
      ],
      "source": [
        "hight.cdf(190) - hight.cdf(166)"
      ]
    },
    {
      "cell_type": "markdown",
      "metadata": {
        "id": "iJRoe40fol2C"
      },
      "source": [
        "г). от 166 см до 182 см"
      ]
    },
    {
      "cell_type": "code",
      "execution_count": null,
      "metadata": {
        "id": "N2Mod1Q5ol2C",
        "outputId": "be54bd31-4b8b-4cb4-b9f7-c39c673c48ac"
      },
      "outputs": [
        {
          "data": {
            "text/plain": [
              "0.6826894921370859"
            ]
          },
          "execution_count": 22,
          "metadata": {},
          "output_type": "execute_result"
        }
      ],
      "source": [
        "hight.cdf(182) - hight.cdf(166)"
      ]
    },
    {
      "cell_type": "markdown",
      "metadata": {
        "id": "6P_zmw4Tol2C"
      },
      "source": [
        "д). от 158 см до 190 см"
      ]
    },
    {
      "cell_type": "code",
      "execution_count": null,
      "metadata": {
        "id": "3fg49X_uol2C",
        "outputId": "dc521361-fcc8-467d-b55e-17333df7b8fc"
      },
      "outputs": [
        {
          "data": {
            "text/plain": [
              "0.9544997361036416"
            ]
          },
          "execution_count": 23,
          "metadata": {},
          "output_type": "execute_result"
        }
      ],
      "source": [
        "hight.cdf(190) - hight.cdf(158)"
      ]
    },
    {
      "cell_type": "markdown",
      "metadata": {
        "id": "mfmabhGCol2D"
      },
      "source": [
        "е). не выше 150 см или не ниже 190 см"
      ]
    },
    {
      "cell_type": "code",
      "execution_count": null,
      "metadata": {
        "id": "6AjSOT4Xol2D",
        "outputId": "793ee3b0-024c-408e-df27-9c706028c82f"
      },
      "outputs": [
        {
          "data": {
            "text/plain": [
              "0.0241000299798093"
            ]
          },
          "execution_count": 24,
          "metadata": {},
          "output_type": "execute_result"
        }
      ],
      "source": [
        "hight.cdf(150) + (1 - hight.cdf(190))"
      ]
    },
    {
      "cell_type": "markdown",
      "metadata": {
        "id": "vbbexmqQol2E"
      },
      "source": [
        "ё). не выше 150 см или не ниже 198 см"
      ]
    },
    {
      "cell_type": "code",
      "execution_count": null,
      "metadata": {
        "id": "NwFbLwkSol2E",
        "outputId": "e644c195-6a33-4954-ea6c-6f805e872210"
      },
      "outputs": [
        {
          "data": {
            "text/plain": [
              "0.0026997960632601965"
            ]
          },
          "execution_count": 25,
          "metadata": {},
          "output_type": "execute_result"
        }
      ],
      "source": [
        "hight.cdf(150) + (1 - hight.cdf(198))"
      ]
    },
    {
      "cell_type": "markdown",
      "metadata": {
        "id": "6N1mONeyol2E"
      },
      "source": [
        "ж). ниже 166 см."
      ]
    },
    {
      "cell_type": "code",
      "execution_count": null,
      "metadata": {
        "id": "XiOW3_6Fol2F",
        "outputId": "9e13844c-8eed-4591-800d-7b8ad62228c9"
      },
      "outputs": [
        {
          "data": {
            "text/plain": [
              "0.15865525393145707"
            ]
          },
          "execution_count": 26,
          "metadata": {},
          "output_type": "execute_result"
        }
      ],
      "source": [
        "hight.cdf(166)"
      ]
    },
    {
      "cell_type": "markdown",
      "metadata": {
        "id": "l8SG_Jmmol2F"
      },
      "source": [
        "5\\. На сколько сигм (средних квадратичных отклонений) отклоняется рост человека, равный 190 см, от \n",
        "математического ожидания роста в популяции, в которой M(X) = 178 см и D(X) = 25 кв.см?"
      ]
    },
    {
      "cell_type": "code",
      "execution_count": null,
      "metadata": {
        "id": "rSORNpa6ol2G",
        "outputId": "efe0f846-1564-45f4-f5c2-75823e991154"
      },
      "outputs": [
        {
          "data": {
            "text/plain": [
              "2.4"
            ]
          },
          "execution_count": 28,
          "metadata": {},
          "output_type": "execute_result"
        }
      ],
      "source": [
        "(190 - 178) / np.sqrt(25)"
      ]
    },
    {
      "cell_type": "code",
      "execution_count": null,
      "metadata": {
        "id": "f96oWoV9ol2G"
      },
      "outputs": [],
      "source": []
    }
  ],
  "metadata": {
    "kernelspec": {
      "display_name": "Python 3",
      "language": "python",
      "name": "python3"
    },
    "language_info": {
      "codemirror_mode": {
        "name": "ipython",
        "version": 3
      },
      "file_extension": ".py",
      "mimetype": "text/x-python",
      "name": "python",
      "nbconvert_exporter": "python",
      "pygments_lexer": "ipython3",
      "version": "3.7.1"
    },
    "colab": {
      "provenance": [],
      "include_colab_link": true
    }
  },
  "nbformat": 4,
  "nbformat_minor": 0
}