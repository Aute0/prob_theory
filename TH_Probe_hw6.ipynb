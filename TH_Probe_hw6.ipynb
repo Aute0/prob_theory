{
 "cells": [
  {
   "cell_type": "code",
   "execution_count": 2,
   "metadata": {},
   "outputs": [],
   "source": [
    "import pandas as pd\n",
    "import numpy as np\n",
    "from statsmodels.stats.weightstats import _tconfint_generic as t_stat\n",
    "from scipy.stats import norm \n",
    "import math"
   ]
  },
  {
   "attachments": {},
   "cell_type": "markdown",
   "metadata": {},
   "source": [
    "# **Задача №1**\n",
    "\n",
    "Известно, что генеральная совокупность распределена нормально \n",
    "со средним квадратическим отклонением, равным 16. \n",
    "Найти доверительный интервал для оценки математического ожидания a с надежностью 0.95, \n",
    "если выборочная средняя M = 80, а объем выборки n = 256."
   ]
  },
  {
   "attachments": {},
   "cell_type": "markdown",
   "metadata": {},
   "source": [
    "**Решение:**\n",
    "\n",
    "1. Найдем среднее выборочное\n",
    "2. Найдем доверительный интервал\n",
    "   \n",
    "   $$\\overline{x} ± z_\\frac{a}{2} * \\frac{σ}{\\sqrt{n}}$$\n",
    "\n",
    "Дано:\n",
    "$$\\overline{x} = 80, σ = 16, n = 256$$ \n",
    "$$z_\\frac{a}{2}(a = 0.05/2) = 1,96 $$\n",
    "\n",
    "Итого:\n",
    "$$80 ± (1,96 * \\frac{16}{\\sqrt{256}})$$"
   ]
  },
  {
   "cell_type": "code",
   "execution_count": 7,
   "metadata": {},
   "outputs": [
    {
     "data": {
      "text/plain": [
       "81.96"
      ]
     },
     "execution_count": 7,
     "metadata": {},
     "output_type": "execute_result"
    }
   ],
   "source": [
    "80 + (1.96 * 16/256**0.5)"
   ]
  },
  {
   "cell_type": "code",
   "execution_count": 8,
   "metadata": {},
   "outputs": [
    {
     "data": {
      "text/plain": [
       "78.04"
      ]
     },
     "execution_count": 8,
     "metadata": {},
     "output_type": "execute_result"
    }
   ],
   "source": [
    "80 - (1.96 * 16/256**0.5)"
   ]
  },
  {
   "attachments": {},
   "cell_type": "markdown",
   "metadata": {},
   "source": [
    "Ответ:\n",
    "\n",
    "Доверительный интервал для оценки мат. ожидания генеральной совокупности: [78,04; 81,96]"
   ]
  },
  {
   "attachments": {},
   "cell_type": "markdown",
   "metadata": {},
   "source": [
    "# **Задача №2**\n",
    "\n",
    "В результате 10 независимых измерений некоторой величины X, выполненных с одинаковой точностью, \n",
    "получены опытные данные:\n",
    "6.9, 6.1, 6.2, 6.8, 7.5, 6.3, 6.4, 6.9, 6.7, 6.1\n",
    "Предполагая, что результаты измерений подчинены нормальному закону распределения вероятностей, \n",
    "оценить истинное значение величины X при помощи доверительного интервала, покрывающего это \n",
    "значение с доверительной вероятностью 0,95."
   ]
  },
  {
   "attachments": {},
   "cell_type": "markdown",
   "metadata": {},
   "source": [
    "**Решение:**\n",
    "\n",
    "Сигма совокупности неизвестна: \n",
    "$$\\overline{x} ± t_\\frac{a}{2} * \\frac{σ}{\\sqrt{n}}$$\n",
    "\n",
    "1. Задаем массив\n",
    "2. Ищем среднее арифметическое \n",
    "3. Ищем несмещенную дисперсию\n",
    "4. Ищем т-критерий + доверительный интервал"
   ]
  },
  {
   "cell_type": "code",
   "execution_count": 11,
   "metadata": {},
   "outputs": [
    {
     "name": "stdout",
     "output_type": "stream",
     "text": [
      "6.590000000000001 0.4508017549014448 0.142556031868954\n"
     ]
    }
   ],
   "source": [
    "X = np.array([6.9, 6.1, 6.2, 6.8, 7.5, 6.3, 6.4, 6.9, 6.7, 6.1])\n",
    "mean_X = X.mean()\n",
    "std_X = X.std(ddof=1)\n",
    "mean_std_X = std_X / (np.sqrt(len(X)))\n",
    "print(mean_X, std_X, mean_std_X)"
   ]
  },
  {
   "cell_type": "code",
   "execution_count": 12,
   "metadata": {},
   "outputs": [
    {
     "data": {
      "text/plain": [
       "(6.267515851415713, 6.912484148584288)"
      ]
     },
     "execution_count": 12,
     "metadata": {},
     "output_type": "execute_result"
    }
   ],
   "source": [
    "t_stat(mean_X, mean_std_X,len(X) - 1, 0.05, 'two-sided')"
   ]
  },
  {
   "attachments": {},
   "cell_type": "markdown",
   "metadata": {},
   "source": [
    "**Ответ:**  доверительный интервал для истинного значения X : [6.267 ; 6.912]"
   ]
  },
  {
   "attachments": {},
   "cell_type": "markdown",
   "metadata": {},
   "source": [
    "# **Задача №3**\n",
    "\n",
    "Рост дочерей 175, 167, 154, 174, 178, 148, 160, 167, 169, 170\n",
    "\n",
    "Рост матерей 178, 165, 165, 173, 168, 155, 160, 164, 178, 175\n",
    "\n",
    "Используя эти данные построить 95% доверительный интервал для разности среднего роста родителей и детей."
   ]
  },
  {
   "attachments": {},
   "cell_type": "markdown",
   "metadata": {},
   "source": [
    "Интервальная оценка для разности средних арифметических ищнтся по формуле:\n",
    "\n",
    "$$Δ ± t_\\frac{a}{2} * S_Δ$$\n",
    "где,\n",
    "$$Δ(дельта) = \\overline{X}_1 - \\overline{X}_2$$"
   ]
  },
  {
   "attachments": {},
   "cell_type": "markdown",
   "metadata": {},
   "source": [
    "Объединенная оценка дисперсии: \n",
    "$$D = \\frac{1}{2}(D_1+D_2)$$\n",
    "\n",
    "Стандартная ошибка разности средних:\n",
    "$$S_Δ = \\sqrt{\\frac{D}{n_1}+\\frac{D}{n_2}} $$"
   ]
  },
  {
   "cell_type": "code",
   "execution_count": 18,
   "metadata": {},
   "outputs": [],
   "source": [
    "moms= np.array([178, 165, 165, 173, 168, 155, 160, 164, 178, 175]) \n",
    "dots = np.array([175, 167, 154, 174, 178, 148, 160, 167, 169, 170])\n",
    "import scipy.stats as stats "
   ]
  },
  {
   "cell_type": "code",
   "execution_count": 14,
   "metadata": {},
   "outputs": [
    {
     "name": "stdout",
     "output_type": "stream",
     "text": [
      "Среднее арифметическое матерей - 168.1, дочерей 166.2\n"
     ]
    }
   ],
   "source": [
    "mean_mothers = np.mean(moms) \n",
    "mean_daughters = np.mean(dots) \n",
    "print(f'Среднее арифметическое матерей - {mean_mothers}, дочерей {mean_daughters}')"
   ]
  },
  {
   "cell_type": "code",
   "execution_count": 15,
   "metadata": {},
   "outputs": [
    {
     "data": {
      "text/plain": [
       "75.5835"
      ]
     },
     "execution_count": 15,
     "metadata": {},
     "output_type": "execute_result"
    }
   ],
   "source": [
    "delta = round(mean_mothers - mean_daughters, 3)\n",
    "# несмещенная дисперсия\n",
    "D1 = round(np.var(moms, ddof=1), 3) \n",
    "D2 = round(np.var(dots, ddof=1), 3) \n",
    "D = (D1 + D2) / 2 \n",
    "D"
   ]
  },
  {
   "cell_type": "code",
   "execution_count": 20,
   "metadata": {},
   "outputs": [
    {
     "name": "stdout",
     "output_type": "stream",
     "text": [
      "Доверительный интервал [-6.268427040475464; 10.068427040475465]\n"
     ]
    }
   ],
   "source": [
    "SE = np.sqrt(D/len(moms) + D/len(dots))\n",
    "t_tabul = stats.t.ppf(0.975, len(moms) + len(dots) - 2)\n",
    "L = delta - t_tabul * SE\n",
    "U = delta + t_tabul * SE\n",
    "print(f\"Доверительный интервал [{L}; {U}]\")"
   ]
  },
  {
   "attachments": {},
   "cell_type": "markdown",
   "metadata": {},
   "source": [
    "**Ответ:** доверительный интервал для разности роста матерей и дочерей [-6.2684; 10.0684]"
   ]
  }
 ],
 "metadata": {
  "kernelspec": {
   "display_name": "Python 3",
   "language": "python",
   "name": "python3"
  },
  "language_info": {
   "codemirror_mode": {
    "name": "ipython",
    "version": 3
   },
   "file_extension": ".py",
   "mimetype": "text/x-python",
   "name": "python",
   "nbconvert_exporter": "python",
   "pygments_lexer": "ipython3",
   "version": "3.11.0"
  },
  "vscode": {
   "interpreter": {
    "hash": "c261aea317cc0286b3b3261fbba9abdec21eaa57589985bb7a274bf54d6cc0a7"
   }
  }
 },
 "nbformat": 4,
 "nbformat_minor": 2
}
